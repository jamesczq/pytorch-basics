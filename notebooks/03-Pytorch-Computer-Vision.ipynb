{
 "cells": [
  {
   "cell_type": "code",
   "execution_count": 1,
   "id": "ad88f1cc",
   "metadata": {},
   "outputs": [],
   "source": [
    "import torch\n",
    "from torch import nn\n",
    "\n",
    "import torchvision\n",
    "from torchvision import datasets\n",
    "from torchvision.transforms import ToTensor\n",
    "\n",
    "import matplotlib.pyplot as plt"
   ]
  },
  {
   "cell_type": "code",
   "execution_count": 2,
   "id": "04118dd6",
   "metadata": {},
   "outputs": [
    {
     "data": {
      "text/plain": [
       "('1.13.1', '0.14.1')"
      ]
     },
     "execution_count": 2,
     "metadata": {},
     "output_type": "execute_result"
    }
   ],
   "source": [
    "torch.__version__, torchvision.__version__"
   ]
  },
  {
   "cell_type": "code",
   "execution_count": 3,
   "id": "28c5beb8",
   "metadata": {},
   "outputs": [],
   "source": [
    "# Get dataset: FashionMNIST"
   ]
  },
  {
   "cell_type": "code",
   "execution_count": 4,
   "id": "6ef512d0",
   "metadata": {},
   "outputs": [],
   "source": [
    "train_data = datasets.FashionMNIST(\n",
    "    root=\"data\", # where to put downloaded data\n",
    "    train=True, # Get training data\n",
    "    download=True,\n",
    "    transform=ToTensor(), # must be from torchvision.transforms. Raw images come in PIL format, so want them in tensors\n",
    "    target_transform=None # how you'd like to transform the y\n",
    ")\n",
    "\n",
    "test_data = datasets.FashionMNIST(\n",
    "    root=\"data\", \n",
    "    train=False, # Get Test data\n",
    "    download=True,\n",
    "    transform=ToTensor()\n",
    ")"
   ]
  },
  {
   "cell_type": "code",
   "execution_count": 5,
   "id": "411db55f",
   "metadata": {
    "scrolled": false
   },
   "outputs": [
    {
     "data": {
      "text/plain": [
       "(torch.Size([1, 28, 28]), 2)"
      ]
     },
     "execution_count": 5,
     "metadata": {},
     "output_type": "execute_result"
    }
   ],
   "source": [
    "X, y = train_data[123]\n",
    "X.shape, y"
   ]
  },
  {
   "cell_type": "code",
   "execution_count": 6,
   "id": "0198dbee",
   "metadata": {},
   "outputs": [
    {
     "data": {
      "text/plain": [
       "(60000, 10000)"
      ]
     },
     "execution_count": 6,
     "metadata": {},
     "output_type": "execute_result"
    }
   ],
   "source": [
    "len(train_data), len(test_data)"
   ]
  },
  {
   "cell_type": "code",
   "execution_count": 7,
   "id": "bf1e5b42",
   "metadata": {},
   "outputs": [
    {
     "data": {
      "text/plain": [
       "['T-shirt/top',\n",
       " 'Trouser',\n",
       " 'Pullover',\n",
       " 'Dress',\n",
       " 'Coat',\n",
       " 'Sandal',\n",
       " 'Shirt',\n",
       " 'Sneaker',\n",
       " 'Bag',\n",
       " 'Ankle boot']"
      ]
     },
     "execution_count": 7,
     "metadata": {},
     "output_type": "execute_result"
    }
   ],
   "source": [
    "class_names = train_data.classes\n",
    "class_names"
   ]
  },
  {
   "cell_type": "code",
   "execution_count": 8,
   "id": "3852b0ce",
   "metadata": {},
   "outputs": [
    {
     "data": {
      "image/png": "[encoded data removed]",
      "text/plain": [
       "<Figure size 640x480 with 1 Axes>"
      ]
     },
     "metadata": {},
     "output_type": "display_data"
    }
   ],
   "source": [
    "plt.imshow(X.squeeze())\n",
    "plt.title(class_names[y]);"
   ]
  },
  {
   "cell_type": "code",
   "execution_count": 9,
   "id": "7d13456b",
   "metadata": {},
   "outputs": [],
   "source": [
    "# Prepare dataloader with torch.utils.data.DataLoader, for training and inference.\n",
    "# It turns a large dataset into an Iterable of smaller mini-batches.\n",
    "\n",
    "# Why use mini-batches?\n",
    "# 1. It's more computationally efficient\n",
    "# 2. Grad descent is performed more often per epoch (once per mini-batch vs once per whole dataset)\n",
    "# so it gives the model more opportunities to improve.\n",
    "\n",
    "# Typical mini-batch size (of number of samples): 32, 64, 128, etc."
   ]
  },
  {
   "cell_type": "code",
   "execution_count": 10,
   "id": "623ac9ff",
   "metadata": {},
   "outputs": [],
   "source": [
    "from torch.utils.data import DataLoader"
   ]
  },
  {
   "cell_type": "code",
   "execution_count": 11,
   "id": "96e3093e",
   "metadata": {},
   "outputs": [],
   "source": [
    "BATCH_SIZE = 64"
   ]
  },
  {
   "cell_type": "code",
   "execution_count": 12,
   "id": "5af040f2",
   "metadata": {},
   "outputs": [],
   "source": [
    "train_dataloader = DataLoader(\n",
    "    train_data, # Turn dataset to iterable\n",
    "    batch_size=BATCH_SIZE,\n",
    "    shuffle=True # Shuffle data every epoch over all batches\n",
    ")\n",
    "\n",
    "test_dataloader = DataLoader(\n",
    "    test_data,\n",
    "    batch_size=BATCH_SIZE,\n",
    "    shuffle=False\n",
    ")"
   ]
  },
  {
   "cell_type": "code",
   "execution_count": 13,
   "id": "ebfcf304",
   "metadata": {},
   "outputs": [
    {
     "data": {
      "text/plain": [
       "(<torch.utils.data.dataloader.DataLoader at 0x176adb2c220>,\n",
       " <torch.utils.data.dataloader.DataLoader at 0x176adad1370>)"
      ]
     },
     "execution_count": 13,
     "metadata": {},
     "output_type": "execute_result"
    }
   ],
   "source": [
    "train_dataloader, test_dataloader"
   ]
  },
  {
   "cell_type": "code",
   "execution_count": 14,
   "id": "a89bdee4",
   "metadata": {},
   "outputs": [
    {
     "name": "stdout",
     "output_type": "stream",
     "text": [
      "Train dataloader: 938 batches of 64\n",
      "Test dataloader: 157 batches of 64\n"
     ]
    }
   ],
   "source": [
    "print(f\"Train dataloader: {len(train_dataloader)} batches of {BATCH_SIZE}\")\n",
    "print(f\"Test dataloader: {len(test_dataloader)} batches of {BATCH_SIZE}\")"
   ]
  },
  {
   "cell_type": "code",
   "execution_count": 15,
   "id": "2d250050",
   "metadata": {},
   "outputs": [
    {
     "data": {
      "text/plain": [
       "(torch.Size([64, 1, 28, 28]), torch.Size([64]))"
      ]
     },
     "execution_count": 15,
     "metadata": {},
     "output_type": "execute_result"
    }
   ],
   "source": [
    "X, y = next(iter(train_dataloader))\n",
    "X.shape, y.shape"
   ]
  },
  {
   "cell_type": "code",
   "execution_count": 16,
   "id": "10293d88",
   "metadata": {},
   "outputs": [
    {
     "data": {
      "text/plain": [
       "'cuda'"
      ]
     },
     "execution_count": 16,
     "metadata": {},
     "output_type": "execute_result"
    }
   ],
   "source": [
    "device = \"cuda\" if torch.cuda.is_available() else \"cpu\"\n",
    "device"
   ]
  },
  {
   "cell_type": "markdown",
   "id": "53e7c8c7",
   "metadata": {},
   "source": [
    "# Baseline model0"
   ]
  },
  {
   "cell_type": "code",
   "execution_count": 17,
   "id": "58e96d29",
   "metadata": {},
   "outputs": [],
   "source": [
    "# Need to flatten 2D images to 1D array\n",
    "flatten_model = nn.Flatten()"
   ]
  },
  {
   "cell_type": "code",
   "execution_count": 18,
   "id": "ade546e1",
   "metadata": {},
   "outputs": [
    {
     "data": {
      "text/plain": [
       "(torch.Size([1, 28, 28]), torch.Size([1, 784]))"
      ]
     },
     "execution_count": 18,
     "metadata": {},
     "output_type": "execute_result"
    }
   ],
   "source": [
    "x0, y0 = next(iter(train_dataloader))\n",
    "x0[10].shape, flatten_model(x0[10]).shape"
   ]
  },
  {
   "cell_type": "code",
   "execution_count": 19,
   "id": "94976163",
   "metadata": {},
   "outputs": [],
   "source": [
    "import torchmetrics"
   ]
  },
  {
   "cell_type": "code",
   "execution_count": 20,
   "id": "ce257d10",
   "metadata": {},
   "outputs": [],
   "source": [
    "torch_acc = torchmetrics.Accuracy(task=\"multiclass\", num_classes=len(class_names))\n",
    "torch_acc_gpu = torchmetrics.Accuracy(task=\"multiclass\", num_classes=len(class_names)).to(\"cuda\")"
   ]
  },
  {
   "cell_type": "code",
   "execution_count": 21,
   "id": "d48102ba",
   "metadata": {},
   "outputs": [],
   "source": [
    "def accuracy_fn(y_true, y_pred):\n",
    "    return torch_acc(y_pred, y_true).item()"
   ]
  },
  {
   "cell_type": "code",
   "execution_count": 22,
   "id": "bcf78c95",
   "metadata": {},
   "outputs": [],
   "source": [
    "def accuracy_fn_gpu(y_true, y_pred):\n",
    "    return torch_acc_gpu(y_pred, y_true).item()"
   ]
  },
  {
   "cell_type": "code",
   "execution_count": 23,
   "id": "b542bbf6",
   "metadata": {},
   "outputs": [],
   "source": [
    "# Define a timer to measure running times on CPU vs on GPU"
   ]
  },
  {
   "cell_type": "code",
   "execution_count": 24,
   "id": "c3fb20b5",
   "metadata": {},
   "outputs": [],
   "source": [
    "from timeit import default_timer as timer"
   ]
  },
  {
   "cell_type": "code",
   "execution_count": 25,
   "id": "6538c151",
   "metadata": {},
   "outputs": [],
   "source": [
    "def print_train_time(start: float, end: float, device: torch.device=None):\n",
    "    delta = end - start\n",
    "    print(f\"Training time on {device}: {delta:.4f} seconds\")\n",
    "    return delta"
   ]
  },
  {
   "cell_type": "code",
   "execution_count": 26,
   "id": "63eeb924",
   "metadata": {},
   "outputs": [],
   "source": [
    "class FashionMNISTModelV0(nn.Module):\n",
    "    def __init__(self, input_shape: int, hidden_units: int, output_shape: int):\n",
    "        super().__init__()\n",
    "        self.layers = nn.Sequential(\n",
    "            nn.Flatten(),\n",
    "            nn.Linear(in_features=input_shape, out_features=hidden_units),\n",
    "            nn.Linear(in_features=hidden_units, out_features=output_shape)\n",
    "        )\n",
    "    \n",
    "    def forward(self, x):\n",
    "        return self.layers(x)"
   ]
  },
  {
   "cell_type": "code",
   "execution_count": 27,
   "id": "b3214994",
   "metadata": {},
   "outputs": [],
   "source": [
    "torch.manual_seed(12)\n",
    "\n",
    "model0 = FashionMNISTModelV0(input_shape=784, hidden_units=10, output_shape=len(class_names))\n",
    "\n",
    "model0.to(\"cpu\")\n",
    "\n",
    "# Set up loss function, optimizer\n",
    "loss_fn = nn.CrossEntropyLoss()\n",
    "optimizer = torch.optim.SGD(model0.parameters(), lr=0.1)"
   ]
  },
  {
   "cell_type": "code",
   "execution_count": 28,
   "id": "6c5961a7",
   "metadata": {},
   "outputs": [],
   "source": [
    "# Training loop"
   ]
  },
  {
   "cell_type": "code",
   "execution_count": 29,
   "id": "de788ce9",
   "metadata": {},
   "outputs": [],
   "source": [
    "from tqdm.auto import tqdm"
   ]
  },
  {
   "cell_type": "code",
   "execution_count": 30,
   "id": "8bb03186",
   "metadata": {},
   "outputs": [
    {
     "data": {
      "application/vnd.jupyter.widget-view+json": {
       "model_id": "eb3ebcc75a8145de9e8391f5b3f7945c",
       "version_major": 2,
       "version_minor": 0
      },
      "text/plain": [
       "  0%|          | 0/3 [00:00<?, ?it/s]"
      ]
     },
     "metadata": {},
     "output_type": "display_data"
    },
    {
     "name": "stdout",
     "output_type": "stream",
     "text": [
      "Epoch: 0\n",
      "-----\n",
      "At 0/60000 samples\n",
      "At 25600/60000 samples\n",
      "At 51200/60000 samples\n",
      "\n",
      "Train loss: 0.6376 | Test loss: 0.54521, Test acc: 0.8037\n",
      "\n",
      "Epoch: 1\n",
      "-----\n",
      "At 0/60000 samples\n",
      "At 25600/60000 samples\n",
      "At 51200/60000 samples\n",
      "\n",
      "Train loss: 0.4857 | Test loss: 0.56256, Test acc: 0.7894\n",
      "\n",
      "Epoch: 2\n",
      "-----\n",
      "At 0/60000 samples\n",
      "At 25600/60000 samples\n",
      "At 51200/60000 samples\n",
      "\n",
      "Train loss: 0.4619 | Test loss: 0.49341, Test acc: 0.8172\n",
      "\n",
      "Training time on cpu: 18.9655 seconds\n"
     ]
    }
   ],
   "source": [
    "torch.manual_seed(12)\n",
    "\n",
    "train_time_start_on_cpu = timer()\n",
    "\n",
    "epochs = 3\n",
    "\n",
    "for epoch in tqdm(range(epochs)):\n",
    "    \n",
    "    print(f\"Epoch: {epoch}\\n-----\")\n",
    "    \n",
    "    # Training\n",
    "    train_loss = 0.0\n",
    "    \n",
    "    # In each epoch, loop through all training batches\n",
    "    for batch, (X, y) in enumerate(train_dataloader):\n",
    "        \n",
    "        model0.train()\n",
    "        \n",
    "        y_pred = model0(X)\n",
    "        \n",
    "        # Loss per batch\n",
    "        loss = loss_fn(y_pred, y)\n",
    "        train_loss += loss.item()\n",
    "        \n",
    "        optimizer.zero_grad()\n",
    "        \n",
    "        loss.backward()\n",
    "        \n",
    "        optimizer.step()\n",
    "        \n",
    "        if batch % 400 == 0:\n",
    "            print(f\"At {batch * len(X)}/{len(train_dataloader.dataset)} samples\")\n",
    "        \n",
    "    # At the end of training in each epoch\n",
    "    train_loss /= len(train_dataloader) # How many batches? Ans: len(train_dataloader)\n",
    "    \n",
    "    # Testing\n",
    "    test_loss = 0.0\n",
    "    test_acc = 0.0\n",
    "    \n",
    "    model0.eval()\n",
    "    \n",
    "    with torch.inference_mode():\n",
    "        for X, y in test_dataloader:\n",
    "            test_pred = model0(X)\n",
    "            \n",
    "            test_loss += loss_fn(test_pred, y).item()\n",
    "            \n",
    "            test_acc += accuracy_fn(test_pred.argmax(dim=1), y)\n",
    "        \n",
    "        test_loss /= len(test_dataloader)\n",
    "        test_acc /= len(test_dataloader)\n",
    "    \n",
    "    print(f\"\\nTrain loss: {train_loss:.4f} | Test loss: {test_loss:.5f}, Test acc: {test_acc:.4f}\\n\")\n",
    "\n",
    "train_time_end_on_cpu = timer()\n",
    "\n",
    "train_time_model0 = print_train_time(\n",
    "    train_time_start_on_cpu, \n",
    "    train_time_end_on_cpu,\n",
    "    device=str(next(model0.parameters()).device))"
   ]
  },
  {
   "cell_type": "code",
   "execution_count": 31,
   "id": "14ec7cfc",
   "metadata": {},
   "outputs": [],
   "source": [
    "# Inference"
   ]
  },
  {
   "cell_type": "code",
   "execution_count": 32,
   "id": "3f57e406",
   "metadata": {},
   "outputs": [],
   "source": [
    "def eval_model(\n",
    "    model: torch.nn.Module, \n",
    "    data_loader: torch.utils.data.DataLoader,\n",
    "    loss_fn: torch.nn.Module,\n",
    "    accuracy_fn,\n",
    "    device: torch.device=\"cpu\"\n",
    ") -> dict:\n",
    "    loss = 0.0\n",
    "    acc = 0.0\n",
    "    \n",
    "    model.eval()\n",
    "    \n",
    "    with torch.inference_mode():\n",
    "        for X, y in data_loader:\n",
    "            X, y = X.to(device), y.to(device)\n",
    "            y_pred = model(X)\n",
    "            \n",
    "            loss += loss_fn(y_pred, y).item()\n",
    "            acc += accuracy_fn(y_pred=y_pred.argmax(dim=1), y_true=y)\n",
    "        \n",
    "        loss /= len(data_loader)\n",
    "        acc /= len(data_loader)\n",
    "    \n",
    "    dict_out = {\n",
    "        \"model_name\": model.__class__.__name__,\n",
    "        \"model_loss\": loss,\n",
    "        \"model_acc\": acc\n",
    "    }\n",
    "    \n",
    "    return dict_out"
   ]
  },
  {
   "cell_type": "code",
   "execution_count": 33,
   "id": "442afc9a",
   "metadata": {},
   "outputs": [
    {
     "data": {
      "text/plain": [
       "{'model_name': 'FashionMNISTModelV0',\n",
       " 'model_loss': 0.49340755715491663,\n",
       " 'model_acc': 0.8171775477707006}"
      ]
     },
     "execution_count": 33,
     "metadata": {},
     "output_type": "execute_result"
    }
   ],
   "source": [
    "model0_metrics = eval_model(model0, test_dataloader, loss_fn, accuracy_fn)\n",
    "model0_metrics"
   ]
  },
  {
   "cell_type": "markdown",
   "id": "53c9ad60",
   "metadata": {},
   "source": [
    "# Improved Model1"
   ]
  },
  {
   "cell_type": "code",
   "execution_count": 34,
   "id": "3fa24ab1",
   "metadata": {},
   "outputs": [],
   "source": [
    "# Add nonlinearlity"
   ]
  },
  {
   "cell_type": "code",
   "execution_count": 35,
   "id": "e9d69681",
   "metadata": {},
   "outputs": [],
   "source": [
    "class FashionMNISTModelV1(nn.Module):\n",
    "    def __init__(self, input_shape: int, hidden_units: int, output_shape: int):\n",
    "        super().__init__()\n",
    "        self.layers = nn.Sequential(\n",
    "            nn.Flatten(),\n",
    "            nn.Linear(in_features=input_shape, out_features=hidden_units),\n",
    "            nn.ReLU(),\n",
    "            nn.Linear(in_features=hidden_units, out_features=output_shape),\n",
    "            nn.ReLU()\n",
    "        )\n",
    "    \n",
    "    def forward(self, x: torch.Tensor):\n",
    "        return self.layers(x)"
   ]
  },
  {
   "cell_type": "code",
   "execution_count": 36,
   "id": "481acbb3",
   "metadata": {},
   "outputs": [],
   "source": [
    "torch.manual_seed(123)\n",
    "\n",
    "model1 = FashionMNISTModelV1(input_shape=784, hidden_units=10, output_shape=len(class_names)).to(device)\n",
    "\n",
    "loss_fn = nn.CrossEntropyLoss()\n",
    "\n",
    "optimizer = torch.optim.SGD(params=model1.parameters(), lr=0.1)"
   ]
  },
  {
   "cell_type": "code",
   "execution_count": 37,
   "id": "7dde1724",
   "metadata": {},
   "outputs": [],
   "source": [
    "# Define training step per epoch\n",
    "\n",
    "def train_step(\n",
    "    model: torch.nn.Module,\n",
    "    data_loader: torch.utils.data.DataLoader,\n",
    "    loss_fn: torch.nn.Module,\n",
    "    optimizer: torch.optim.Optimizer,\n",
    "    accuracy_fn,\n",
    "    device: torch.device=device\n",
    "):\n",
    "    \n",
    "    train_loss = 0.0\n",
    "    train_acc = 0.0\n",
    "    \n",
    "    for batch, (X, y) in enumerate(data_loader):\n",
    "        # Send data to GPU\n",
    "        X, y = X.to(device), y.to(device)\n",
    "        \n",
    "        y_pred = model(X)\n",
    "        y_pred_label = y_pred.argmax(dim=1)\n",
    "        \n",
    "        loss = loss_fn(y_pred, y)\n",
    "        train_loss += loss.item()\n",
    "        train_acc += accuracy_fn(y_true=y, y_pred=y_pred_label)\n",
    "        \n",
    "        optimizer.zero_grad()\n",
    "        \n",
    "        loss.backward()\n",
    "        \n",
    "        optimizer.step()\n",
    "        \n",
    "    train_loss /= len(data_loader) # numBatches per epoch\n",
    "    train_acc /= len(data_loader)\n",
    "    \n",
    "    print(f\"Train loss: {train_loss:.4f} | Train accuracy: {train_acc:.2f}\")"
   ]
  },
  {
   "cell_type": "code",
   "execution_count": 38,
   "id": "6823e139",
   "metadata": {},
   "outputs": [],
   "source": [
    "# Define test step per epoch\n",
    "\n",
    "def test_step(model, data_loader, loss_fn, accuracy_fn, device=device):\n",
    "    test_loss = 0.0\n",
    "    test_acc = 0.0\n",
    "    \n",
    "    model.eval()\n",
    "    with torch.inference_mode():\n",
    "        for X, y in data_loader:\n",
    "            X, y = X.to(device), y.to(device)\n",
    "            \n",
    "            test_pred = model(X)\n",
    "            test_pred_label = test_pred.argmax(dim=1)\n",
    "            \n",
    "            test_loss += loss_fn(test_pred, y)\n",
    "            test_acc += accuracy_fn(y_true=y, y_pred=test_pred_label)\n",
    "        \n",
    "        test_loss /= len(data_loader)\n",
    "        test_acc /= len(data_loader)\n",
    "        \n",
    "        print(f\"Test loss: {test_loss:.4f} | Test accuracy: {test_acc:.2f}\")"
   ]
  },
  {
   "cell_type": "code",
   "execution_count": 39,
   "id": "af0fe783",
   "metadata": {},
   "outputs": [
    {
     "data": {
      "application/vnd.jupyter.widget-view+json": {
       "model_id": "b221112f2a854e7fadf8b9168ba63fc0",
       "version_major": 2,
       "version_minor": 0
      },
      "text/plain": [
       "  0%|          | 0/3 [00:00<?, ?it/s]"
      ]
     },
     "metadata": {},
     "output_type": "display_data"
    },
    {
     "name": "stdout",
     "output_type": "stream",
     "text": [
      "Epoch: 0\n",
      "-----\n",
      "Train loss: 0.7186 | Train accuracy: 0.75\n",
      "Test loss: 0.5397 | Test accuracy: 0.81\n",
      "Epoch: 1\n",
      "-----\n",
      "Train loss: 0.4884 | Train accuracy: 0.83\n",
      "Test loss: 0.4855 | Test accuracy: 0.83\n",
      "Epoch: 2\n",
      "-----\n",
      "Train loss: 0.4539 | Train accuracy: 0.84\n",
      "Test loss: 0.4828 | Test accuracy: 0.83\n",
      "Training time on cuda:0: 23.4268 seconds\n"
     ]
    }
   ],
   "source": [
    "torch.manual_seed(123)\n",
    "\n",
    "train_time_start_on_gpu = timer()\n",
    "\n",
    "epochs = 3\n",
    "for epoch in tqdm(range(epochs)):\n",
    "    print(f\"Epoch: {epoch}\\n-----\")\n",
    "    train_step(model1, train_dataloader, loss_fn, optimizer, accuracy_fn_gpu)\n",
    "    test_step(model1, test_dataloader, loss_fn, accuracy_fn_gpu)\n",
    "\n",
    "train_time_end_on_gpu = timer()\n",
    "\n",
    "train_time_model1 = print_train_time(\n",
    "    train_time_start_on_gpu, \n",
    "    train_time_end_on_gpu,\n",
    "    device=str(next(model1.parameters()).device))"
   ]
  },
  {
   "cell_type": "code",
   "execution_count": 40,
   "id": "a97e25fd",
   "metadata": {},
   "outputs": [
    {
     "data": {
      "text/plain": [
       "{'model_name': 'FashionMNISTModelV1',\n",
       " 'model_loss': 0.4827734373367516,\n",
       " 'model_acc': 0.8296178343949044}"
      ]
     },
     "execution_count": 40,
     "metadata": {},
     "output_type": "execute_result"
    }
   ],
   "source": [
    "torch.manual_seed(123)\n",
    "\n",
    "model1_results = eval_model(\n",
    "    model=model1, data_loader=test_dataloader, loss_fn=loss_fn, accuracy_fn=accuracy_fn_gpu, device=device)\n",
    "model1_results"
   ]
  },
  {
   "cell_type": "markdown",
   "id": "84c5f011",
   "metadata": {},
   "source": [
    "# Convolutional Neural Network model"
   ]
  },
  {
   "cell_type": "code",
   "execution_count": 41,
   "id": "1b36d9cd",
   "metadata": {},
   "outputs": [],
   "source": [
    "# Typical CNN structure:\n",
    "# Input layer\n",
    "# [Convolutional layer -> activation layer -> pooling layer] * multipleTimes\n",
    "# Output layer"
   ]
  },
  {
   "cell_type": "code",
   "execution_count": 42,
   "id": "8afae472",
   "metadata": {},
   "outputs": [],
   "source": [
    "class FashionMNISTModelV2(nn.Module):\n",
    "    def __init__(self, input_shape:int, hidden_units:int, output_shape:int):\n",
    "        super().__init__()\n",
    "        \n",
    "        self.conv_block_1 = nn.Sequential(\n",
    "            nn.Conv2d(\n",
    "                in_channels=input_shape, \n",
    "                out_channels=hidden_units, \n",
    "                kernel_size=3, \n",
    "                stride=1,\n",
    "                padding=1),\n",
    "            nn.ReLU(),\n",
    "            nn.Conv2d(\n",
    "                in_channels=hidden_units,\n",
    "                out_channels=hidden_units,\n",
    "                kernel_size=3,\n",
    "                stride=1,\n",
    "                padding=1),\n",
    "            nn.ReLU(),\n",
    "            nn.MaxPool2d(kernel_size=2, stride=2) # In Pooing, default stride = kernel size\n",
    "        )\n",
    "        \n",
    "        self.conv_block_2 = nn.Sequential(\n",
    "            nn.Conv2d(hidden_units, hidden_units, 3, padding=1),\n",
    "            nn.ReLU(),\n",
    "            nn.Conv2d(hidden_units, hidden_units, 3, padding=1),\n",
    "            nn.ReLU(),\n",
    "            nn.MaxPool2d(2)\n",
    "        )\n",
    "        \n",
    "        self.classifier = nn.Sequential(\n",
    "            nn.Flatten(),\n",
    "            nn.Linear(\n",
    "                in_features=hidden_units*7*7, # Cf. algebraic relation between kernel_size/stride/pooling\n",
    "                out_features=output_shape)\n",
    "        )\n",
    "    \n",
    "    def forward(self, x:torch.Tensor):\n",
    "        x = self.conv_block_1(x)\n",
    "        #print(x.shape)\n",
    "        x = self.conv_block_2(x)\n",
    "        #print(x.shape)\n",
    "        x = self.classifier(x)\n",
    "        #print(x.shape)\n",
    "        return x"
   ]
  },
  {
   "cell_type": "code",
   "execution_count": 43,
   "id": "503fb8e3",
   "metadata": {},
   "outputs": [],
   "source": [
    "# Conv2d\n",
    "\n",
    "# nn.Conv2d() expects a 4-dim tensor of shape \n",
    "# [batch_size, channels, height, width]\n",
    "\n",
    "# Note: when nn.Conv2d() is in the middle of the network (i.e. not directly connected to input),\n",
    "# the \"channels\" = num of hidden units"
   ]
  },
  {
   "cell_type": "code",
   "execution_count": 44,
   "id": "72f13fdd",
   "metadata": {},
   "outputs": [],
   "source": [
    "# MaxPool2d\n",
    "\n",
    "# Every layer in NNet is trying to compress data from higher to lower dimensional space.\n",
    "# nn.MaxPool2d() takes the max from a portion of a tensor and disregard the rest. \n",
    "# (It's the same story for nn.Conv2d(), except that Conv2d performs a convolutional operation on data)"
   ]
  },
  {
   "cell_type": "code",
   "execution_count": 45,
   "id": "405e030e",
   "metadata": {},
   "outputs": [
    {
     "data": {
      "text/plain": [
       "FashionMNISTModelV2(\n",
       "  (conv_block_1): Sequential(\n",
       "    (0): Conv2d(1, 10, kernel_size=(3, 3), stride=(1, 1), padding=(1, 1))\n",
       "    (1): ReLU()\n",
       "    (2): Conv2d(10, 10, kernel_size=(3, 3), stride=(1, 1), padding=(1, 1))\n",
       "    (3): ReLU()\n",
       "    (4): MaxPool2d(kernel_size=2, stride=2, padding=0, dilation=1, ceil_mode=False)\n",
       "  )\n",
       "  (conv_block_2): Sequential(\n",
       "    (0): Conv2d(10, 10, kernel_size=(3, 3), stride=(1, 1), padding=(1, 1))\n",
       "    (1): ReLU()\n",
       "    (2): Conv2d(10, 10, kernel_size=(3, 3), stride=(1, 1), padding=(1, 1))\n",
       "    (3): ReLU()\n",
       "    (4): MaxPool2d(kernel_size=2, stride=2, padding=0, dilation=1, ceil_mode=False)\n",
       "  )\n",
       "  (classifier): Sequential(\n",
       "    (0): Flatten(start_dim=1, end_dim=-1)\n",
       "    (1): Linear(in_features=490, out_features=10, bias=True)\n",
       "  )\n",
       ")"
      ]
     },
     "execution_count": 45,
     "metadata": {},
     "output_type": "execute_result"
    }
   ],
   "source": [
    "torch.manual_seed(1234)\n",
    "\n",
    "model2 = FashionMNISTModelV2(input_shape=1, hidden_units=10, output_shape=len(class_names)).to(device)\n",
    "model2"
   ]
  },
  {
   "cell_type": "code",
   "execution_count": 46,
   "id": "19341595",
   "metadata": {},
   "outputs": [],
   "source": [
    "# Loss and Optimizer\n",
    "\n",
    "loss_fn = nn.CrossEntropyLoss()\n",
    "\n",
    "optimizer = torch.optim.SGD(params=model2.parameters(), lr=0.1)"
   ]
  },
  {
   "cell_type": "code",
   "execution_count": 47,
   "id": "724e6e10",
   "metadata": {},
   "outputs": [
    {
     "data": {
      "application/vnd.jupyter.widget-view+json": {
       "model_id": "534ad018581045be95392aab636123d1",
       "version_major": 2,
       "version_minor": 0
      },
      "text/plain": [
       "  0%|          | 0/3 [00:00<?, ?it/s]"
      ]
     },
     "metadata": {},
     "output_type": "display_data"
    },
    {
     "name": "stdout",
     "output_type": "stream",
     "text": [
      "Epoch: 0\n",
      "-----\n",
      "Train loss: 0.7759 | Train accuracy: 0.72\n",
      "Test loss: 0.5134 | Test accuracy: 0.81\n",
      "Epoch: 1\n",
      "-----\n",
      "Train loss: 0.4077 | Train accuracy: 0.85\n",
      "Test loss: 0.3886 | Test accuracy: 0.86\n",
      "Epoch: 2\n",
      "-----\n",
      "Train loss: 0.3589 | Train accuracy: 0.87\n",
      "Test loss: 0.3864 | Test accuracy: 0.86\n",
      "Training time on cuda: 23.6096 seconds\n"
     ]
    }
   ],
   "source": [
    "torch.manual_seed(1234)\n",
    "\n",
    "train_time_start_model2 = timer()\n",
    "\n",
    "epochs = 3\n",
    "for epoch in tqdm(range(epochs)):\n",
    "    print(f\"Epoch: {epoch}\\n-----\")\n",
    "    train_step(\n",
    "        model=model2, \n",
    "        data_loader=train_dataloader,\n",
    "        loss_fn=loss_fn,\n",
    "        optimizer=optimizer,\n",
    "        accuracy_fn=accuracy_fn_gpu,\n",
    "        device=device)\n",
    "    \n",
    "    test_step(\n",
    "        model=model2,\n",
    "        data_loader=test_dataloader,\n",
    "        loss_fn=loss_fn,\n",
    "        accuracy_fn=accuracy_fn_gpu,\n",
    "        device=device)\n",
    "\n",
    "train_time_end_model2 = timer()\n",
    "\n",
    "totoal_train_time_model2 = print_train_time(\n",
    "    start=train_time_start_model2,\n",
    "    end=train_time_end_model2,\n",
    "    device=device\n",
    ")"
   ]
  },
  {
   "cell_type": "code",
   "execution_count": 48,
   "id": "a22397ee",
   "metadata": {},
   "outputs": [
    {
     "data": {
      "text/plain": [
       "{'model_name': 'FashionMNISTModelV2',\n",
       " 'model_loss': 0.38635989121950354,\n",
       " 'model_acc': 0.8615644904458599}"
      ]
     },
     "execution_count": 48,
     "metadata": {},
     "output_type": "execute_result"
    }
   ],
   "source": [
    "model2_results = eval_model(\n",
    "    model=model2, \n",
    "    data_loader=test_dataloader, \n",
    "    loss_fn=loss_fn, \n",
    "    accuracy_fn=accuracy_fn_gpu,\n",
    "    device=device\n",
    ")\n",
    "model2_results"
   ]
  },
  {
   "cell_type": "code",
   "execution_count": 49,
   "id": "bc860b62",
   "metadata": {},
   "outputs": [],
   "source": [
    "import pandas as pd"
   ]
  },
  {
   "cell_type": "code",
   "execution_count": 50,
   "id": "4f0410db",
   "metadata": {},
   "outputs": [
    {
     "data": {
      "text/html": [
       "<div>\n",
       "<style scoped>\n",
       "    .dataframe tbody tr th:only-of-type {\n",
       "        vertical-align: middle;\n",
       "    }\n",
       "\n",
       "    .dataframe tbody tr th {\n",
       "        vertical-align: top;\n",
       "    }\n",
       "\n",
       "    .dataframe thead th {\n",
       "        text-align: right;\n",
       "    }\n",
       "</style>\n",
       "<table border=\"1\" class=\"dataframe\">\n",
       "  <thead>\n",
       "    <tr style=\"text-align: right;\">\n",
       "      <th></th>\n",
       "      <th>model_name</th>\n",
       "      <th>model_loss</th>\n",
       "      <th>model_acc</th>\n",
       "      <th>training time</th>\n",
       "    </tr>\n",
       "  </thead>\n",
       "  <tbody>\n",
       "    <tr>\n",
       "      <th>0</th>\n",
       "      <td>FashionMNISTModelV0</td>\n",
       "      <td>0.493408</td>\n",
       "      <td>0.817178</td>\n",
       "      <td>19.30</td>\n",
       "    </tr>\n",
       "    <tr>\n",
       "      <th>1</th>\n",
       "      <td>FashionMNISTModelV1</td>\n",
       "      <td>0.482773</td>\n",
       "      <td>0.829618</td>\n",
       "      <td>22.70</td>\n",
       "    </tr>\n",
       "    <tr>\n",
       "      <th>2</th>\n",
       "      <td>FashionMNISTModelV2</td>\n",
       "      <td>0.386360</td>\n",
       "      <td>0.861564</td>\n",
       "      <td>20.41</td>\n",
       "    </tr>\n",
       "  </tbody>\n",
       "</table>\n",
       "</div>"
      ],
      "text/plain": [
       "            model_name  model_loss  model_acc  training time\n",
       "0  FashionMNISTModelV0    0.493408   0.817178          19.30\n",
       "1  FashionMNISTModelV1    0.482773   0.829618          22.70\n",
       "2  FashionMNISTModelV2    0.386360   0.861564          20.41"
      ]
     },
     "execution_count": 50,
     "metadata": {},
     "output_type": "execute_result"
    }
   ],
   "source": [
    "df_model_comparison = pd.DataFrame([model0_metrics, model1_results, model2_results])\n",
    "df_model_comparison[\"training time\"] = [19.30, 22.70, 20.41]\n",
    "df_model_comparison"
   ]
  },
  {
   "cell_type": "markdown",
   "id": "a60d0f0c",
   "metadata": {},
   "source": [
    "# Inference"
   ]
  },
  {
   "cell_type": "code",
   "execution_count": 51,
   "id": "05fe3de8",
   "metadata": {},
   "outputs": [],
   "source": [
    "def predict(model:torch.nn.Module, data:list, device:torch.device=device):\n",
    "    pred_probs = []\n",
    "    model.eval()\n",
    "    with torch.inference_mode():\n",
    "        for sample in data:\n",
    "            sample = torch.unsqueeze(sample, dim=0).to(device)\n",
    "            pred_logit = model(sample)\n",
    "            pred_prob = torch.softmax(pred_logit.squeeze(), dim=0)\n",
    "            pred_probs.append(pred_prob.cpu())\n",
    "    return torch.stack(pred_probs)"
   ]
  },
  {
   "cell_type": "code",
   "execution_count": 52,
   "id": "5bb5e925",
   "metadata": {},
   "outputs": [],
   "source": [
    "import random"
   ]
  },
  {
   "cell_type": "code",
   "execution_count": 53,
   "id": "cfd44a17",
   "metadata": {},
   "outputs": [],
   "source": [
    "random.seed(123)\n",
    "\n",
    "test_samples = []\n",
    "test_labels = []\n",
    "\n",
    "for sample, label in random.sample(list(test_data), k=9):\n",
    "    test_samples.append(sample)\n",
    "    test_labels.append(label)"
   ]
  },
  {
   "cell_type": "code",
   "execution_count": 54,
   "id": "c854788e",
   "metadata": {},
   "outputs": [
    {
     "data": {
      "text/plain": [
       "(torch.Size([1, 28, 28]), 1)"
      ]
     },
     "execution_count": 54,
     "metadata": {},
     "output_type": "execute_result"
    }
   ],
   "source": [
    "test_samples[0].shape, test_labels[0]"
   ]
  },
  {
   "cell_type": "code",
   "execution_count": 55,
   "id": "bbe96ad4",
   "metadata": {},
   "outputs": [
    {
     "data": {
      "text/plain": [
       "(tensor([[3.5489e-05, 9.9390e-01, 7.8296e-07, 5.8965e-03, 5.4994e-05, 1.1500e-05,\n",
       "          2.9393e-05, 2.7045e-06, 6.1195e-05, 4.1380e-06],\n",
       "         [7.0665e-05, 1.1212e-07, 4.3199e-06, 5.4362e-05, 3.7581e-07, 9.9935e-01,\n",
       "          1.6142e-06, 2.5152e-04, 1.0287e-04, 1.6252e-04],\n",
       "         [9.9203e-01, 4.7233e-07, 3.7646e-04, 1.5185e-04, 5.3553e-06, 5.4059e-09,\n",
       "          7.3976e-03, 4.8178e-09, 3.7637e-05, 7.6312e-09]]),\n",
       " torch.Size([3, 10]))"
      ]
     },
     "execution_count": 55,
     "metadata": {},
     "output_type": "execute_result"
    }
   ],
   "source": [
    "pred_probs = predict(model2, test_samples)\n",
    "pred_probs[:3], pred_probs[:3].shape"
   ]
  },
  {
   "cell_type": "code",
   "execution_count": 56,
   "id": "036907d6",
   "metadata": {},
   "outputs": [
    {
     "data": {
      "text/plain": [
       "(tensor([1, 5, 0, 3, 3, 6, 0, 9, 9]), [1, 5, 0, 3, 3, 6, 0, 9, 9])"
      ]
     },
     "execution_count": 56,
     "metadata": {},
     "output_type": "execute_result"
    }
   ],
   "source": [
    "pred_classes = pred_probs.argmax(dim=1)\n",
    "pred_classes, test_labels"
   ]
  },
  {
   "cell_type": "code",
   "execution_count": 57,
   "id": "49975e6f",
   "metadata": {},
   "outputs": [
    {
     "data": {
      "image/png": "[encoded data removed]",
      "text/plain": [
       "<Figure size 900x900 with 9 Axes>"
      ]
     },
     "metadata": {},
     "output_type": "display_data"
    }
   ],
   "source": [
    "# Plot predictions\n",
    "plt.figure(figsize=(9, 9))\n",
    "nrows = 3\n",
    "ncols = 3\n",
    "for i, sample in enumerate(test_samples):\n",
    "  # Create a subplot\n",
    "  plt.subplot(nrows, ncols, i+1)\n",
    "\n",
    "  # Plot the target image\n",
    "  plt.imshow(sample.squeeze(), cmap=\"gray\")\n",
    "\n",
    "  # Find the prediction label (in text form, e.g. \"Sandal\")\n",
    "  pred_label = class_names[pred_classes[i]]\n",
    "\n",
    "  # Get the truth label (in text form, e.g. \"T-shirt\")\n",
    "  truth_label = class_names[test_labels[i]] \n",
    "\n",
    "  # Create the title text of the plot\n",
    "  title_text = f\"Pred: {pred_label} | Truth: {truth_label}\"\n",
    "  \n",
    "  # Check for equality and change title colour accordingly\n",
    "if pred_label == truth_label:\n",
    "    plt.title(title_text, fontsize=10, c=\"g\") # green text if correct\n",
    "else:\n",
    "    plt.title(title_text, fontsize=10, c=\"r\") # red text if wrong\n",
    "plt.axis(False);"
   ]
  },
  {
   "cell_type": "markdown",
   "id": "bce157cd",
   "metadata": {},
   "source": [
    "# Confusion matrix"
   ]
  },
  {
   "cell_type": "code",
   "execution_count": 58,
   "id": "d6e8f0cf",
   "metadata": {},
   "outputs": [
    {
     "data": {
      "application/vnd.jupyter.widget-view+json": {
       "model_id": "b29a8228e078431bb422f1f6093df6b0",
       "version_major": 2,
       "version_minor": 0
      },
      "text/plain": [
       "Inference on test data:   0%|          | 0/157 [00:00<?, ?it/s]"
      ]
     },
     "metadata": {},
     "output_type": "display_data"
    }
   ],
   "source": [
    "y_preds = []\n",
    "\n",
    "model2.eval()\n",
    "\n",
    "with torch.inference_mode():\n",
    "    for X, y in tqdm(test_dataloader, desc=\"Inference on test data\"):\n",
    "        X, y = X.to(device), y.to(device)\n",
    "        y_logit = model2(X)\n",
    "        y_pred = torch.softmax(y_logit, dim=1).argmax(dim=1)\n",
    "        y_preds.append(y_pred.cpu())\n",
    "\n",
    "y_preds = torch.cat(y_preds)"
   ]
  },
  {
   "cell_type": "code",
   "execution_count": 59,
   "id": "9c1589ee",
   "metadata": {},
   "outputs": [
    {
     "data": {
      "text/plain": [
       "'0.21.0'"
      ]
     },
     "execution_count": 59,
     "metadata": {},
     "output_type": "execute_result"
    }
   ],
   "source": [
    "import mlxtend\n",
    "mlxtend.__version__"
   ]
  },
  {
   "cell_type": "code",
   "execution_count": 60,
   "id": "270e57ee",
   "metadata": {},
   "outputs": [],
   "source": [
    "from torchmetrics import ConfusionMatrix\n",
    "from mlxtend.plotting import plot_confusion_matrix"
   ]
  },
  {
   "cell_type": "code",
   "execution_count": 61,
   "id": "fedb6391",
   "metadata": {},
   "outputs": [],
   "source": [
    "conf_mat = ConfusionMatrix(num_classes=len(class_names), task=\"multiclass\")"
   ]
  },
  {
   "cell_type": "code",
   "execution_count": 62,
   "id": "a90ade53",
   "metadata": {},
   "outputs": [
    {
     "data": {
      "text/plain": [
       "tensor([[912,   2,  10,  36,   3,   1,  25,   0,  11,   0],\n",
       "        [  5, 962,   0,  25,   3,   0,   2,   0,   3,   0],\n",
       "        [ 24,   0, 838,   9,  89,   0,  38,   0,   2,   0],\n",
       "        [ 51,   1,  10, 894,  23,   0,  18,   0,   3,   0],\n",
       "        [  3,   1, 102,  38, 783,   0,  67,   0,   6,   0],\n",
       "        [  0,   0,   0,   1,   0, 990,   0,   3,   1,   5],\n",
       "        [257,   1,  99,  31,  92,   0, 505,   0,  15,   0],\n",
       "        [  0,   0,   0,   0,   0, 117,   0, 778,   0, 105],\n",
       "        [  3,   1,   7,   3,   4,   6,   4,   0, 972,   0],\n",
       "        [  0,   0,   0,   0,   0,  14,   0,   8,   0, 978]])"
      ]
     },
     "execution_count": 62,
     "metadata": {},
     "output_type": "execute_result"
    }
   ],
   "source": [
    "conf_mat(preds=y_preds, target=test_data.targets)"
   ]
  },
  {
   "cell_type": "code",
   "execution_count": 63,
   "id": "0897f998",
   "metadata": {},
   "outputs": [],
   "source": [
    "from sklearn.metrics import confusion_matrix"
   ]
  },
  {
   "cell_type": "code",
   "execution_count": 64,
   "id": "eaf07fe2",
   "metadata": {},
   "outputs": [],
   "source": [
    "conf_mat = confusion_matrix(y_true=test_data.targets.numpy(), y_pred=y_preds.numpy())"
   ]
  },
  {
   "cell_type": "code",
   "execution_count": 65,
   "id": "77c00ec7",
   "metadata": {},
   "outputs": [
    {
     "data": {
      "text/plain": [
       "array([[912,   2,  10,  36,   3,   1,  25,   0,  11,   0],\n",
       "       [  5, 962,   0,  25,   3,   0,   2,   0,   3,   0],\n",
       "       [ 24,   0, 838,   9,  89,   0,  38,   0,   2,   0],\n",
       "       [ 51,   1,  10, 894,  23,   0,  18,   0,   3,   0],\n",
       "       [  3,   1, 102,  38, 783,   0,  67,   0,   6,   0],\n",
       "       [  0,   0,   0,   1,   0, 990,   0,   3,   1,   5],\n",
       "       [257,   1,  99,  31,  92,   0, 505,   0,  15,   0],\n",
       "       [  0,   0,   0,   0,   0, 117,   0, 778,   0, 105],\n",
       "       [  3,   1,   7,   3,   4,   6,   4,   0, 972,   0],\n",
       "       [  0,   0,   0,   0,   0,  14,   0,   8,   0, 978]], dtype=int64)"
      ]
     },
     "execution_count": 65,
     "metadata": {},
     "output_type": "execute_result"
    }
   ],
   "source": [
    "conf_mat"
   ]
  },
  {
   "cell_type": "code",
   "execution_count": 66,
   "id": "a41b3bec",
   "metadata": {},
   "outputs": [
    {
     "data": {
      "image/png": "[encoded data removed]",
      "text/plain": [
       "<Figure size 640x480 with 1 Axes>"
      ]
     },
     "metadata": {},
     "output_type": "display_data"
    }
   ],
   "source": [
    "fig, ax = plot_confusion_matrix(\n",
    "    conf_mat=conf_mat,\n",
    "    class_names=class_names\n",
    ")"
   ]
  },
  {
   "cell_type": "markdown",
   "id": "1cd374b8",
   "metadata": {},
   "source": [
    "# Save/Load model"
   ]
  },
  {
   "cell_type": "code",
   "execution_count": 67,
   "id": "ff4148cd",
   "metadata": {},
   "outputs": [],
   "source": [
    "from pathlib import Path"
   ]
  },
  {
   "cell_type": "code",
   "execution_count": 68,
   "id": "1fba0dfc",
   "metadata": {},
   "outputs": [
    {
     "name": "stdout",
     "output_type": "stream",
     "text": [
      "Saving model to: models\\03_pytorch_computer_vision_cnn.pt\n"
     ]
    }
   ],
   "source": [
    "MODEL_PATH = Path(\"models\")\n",
    "MODEL_PATH.mkdir(parents=True, exist_ok=True)\n",
    "\n",
    "MODEL_NAME = \"03_pytorch_computer_vision_cnn.pt\"\n",
    "MODEL_SAVE_PATH = MODEL_PATH/MODEL_NAME\n",
    "\n",
    "print(f\"Saving model to: {MODEL_SAVE_PATH}\")\n",
    "torch.save(obj=model2.state_dict(), f=MODEL_SAVE_PATH)"
   ]
  },
  {
   "cell_type": "code",
   "execution_count": 69,
   "id": "eb15f6f6",
   "metadata": {},
   "outputs": [],
   "source": [
    "loaded_model2 = FashionMNISTModelV2(input_shape=1, hidden_units=10, output_shape=10)\n",
    "\n",
    "loaded_model2.load_state_dict(torch.load(f=MODEL_SAVE_PATH))\n",
    "\n",
    "loaded_model2 = loaded_model2.to(device)"
   ]
  },
  {
   "cell_type": "code",
   "execution_count": 70,
   "id": "e9b12f88",
   "metadata": {},
   "outputs": [
    {
     "data": {
      "text/plain": [
       "({'model_name': 'FashionMNISTModelV2',\n",
       "  'model_loss': 0.38635989121950354,\n",
       "  'model_acc': 0.8615644904458599},\n",
       " {'model_name': 'FashionMNISTModelV2',\n",
       "  'model_loss': 0.38635989121950354,\n",
       "  'model_acc': 0.8615644904458599})"
      ]
     },
     "execution_count": 70,
     "metadata": {},
     "output_type": "execute_result"
    }
   ],
   "source": [
    "torch.manual_seed(12345)\n",
    "\n",
    "loaded_model2_results = eval_model(\n",
    "    model=loaded_model2,\n",
    "    data_loader=test_dataloader,\n",
    "    loss_fn=loss_fn,\n",
    "    accuracy_fn=accuracy_fn_gpu,\n",
    "    device=device\n",
    ")\n",
    "\n",
    "loaded_model2_results, model2_results"
   ]
  },
  {
   "cell_type": "code",
   "execution_count": 71,
   "id": "911b07a4",
   "metadata": {},
   "outputs": [
    {
     "data": {
      "text/plain": [
       "tensor(True)"
      ]
     },
     "execution_count": 71,
     "metadata": {},
     "output_type": "execute_result"
    }
   ],
   "source": [
    "# Check to see if results are close to each other (if they are very far away, there may be an error)\n",
    "torch.isclose(torch.tensor(model2_results[\"model_loss\"]), \n",
    "              torch.tensor(loaded_model2_results[\"model_loss\"]),\n",
    "              atol=1e-08, # absolute tolerance\n",
    "              rtol=0.0001) # relative tolerance"
   ]
  }
 ],
 "metadata": {
  "kernelspec": {
   "display_name": "Python 3 (ipykernel)",
   "language": "python",
   "name": "python3"
  },
  "language_info": {
   "codemirror_mode": {
    "name": "ipython",
    "version": 3
   },
   "file_extension": ".py",
   "mimetype": "text/x-python",
   "name": "python",
   "nbconvert_exporter": "python",
   "pygments_lexer": "ipython3",
   "version": "3.9.13"
  }
 },
 "nbformat": 4,
 "nbformat_minor": 5
}
