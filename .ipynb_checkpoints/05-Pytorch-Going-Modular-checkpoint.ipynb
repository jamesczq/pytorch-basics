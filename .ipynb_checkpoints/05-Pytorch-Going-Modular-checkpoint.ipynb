{
 "cells": [
  {
   "cell_type": "code",
   "execution_count": 1,
   "id": "5095e038",
   "metadata": {},
   "outputs": [],
   "source": [
    "import os\n",
    "\n",
    "import torch\n",
    "import torchvision"
   ]
  },
  {
   "cell_type": "code",
   "execution_count": 2,
   "id": "d9e62fe7",
   "metadata": {},
   "outputs": [
    {
     "data": {
      "text/plain": [
       "12"
      ]
     },
     "execution_count": 2,
     "metadata": {},
     "output_type": "execute_result"
    }
   ],
   "source": [
    "NUM_WORKERS = os.cpu_count()\n",
    "NUM_WORKERS"
   ]
  },
  {
   "cell_type": "code",
   "execution_count": 3,
   "id": "28bcf10d",
   "metadata": {},
   "outputs": [
    {
     "name": "stdout",
     "output_type": "stream",
     "text": [
      "data/pizza_steak_sushi directory exists.\n",
      "Downloading pizza, steak, sushi data...\n",
      "Unzipping pizza, steak, sushi data...\n"
     ]
    }
   ],
   "source": [
    "import os\n",
    "import requests\n",
    "import zipfile\n",
    "from pathlib import Path\n",
    "\n",
    "# Setup path to data folder\n",
    "data_path = Path(\"data/\")\n",
    "image_path = data_path / \"pizza_steak_sushi\"\n",
    "\n",
    "# If the image folder doesn't exist, download it and prepare it... \n",
    "if image_path.is_dir():\n",
    "    print(f\"{image_path} directory exists.\")\n",
    "else:\n",
    "    print(f\"Did not find {image_path} directory, creating one...\")\n",
    "    image_path.mkdir(parents=True, exist_ok=True)\n",
    "\n",
    "# Download pizza, steak, sushi data\n",
    "with open(data_path / \"pizza_steak_sushi.zip\", \"wb\") as f:\n",
    "    request = requests.get(\n",
    "        \"https://github.com/mrdbourke/pytorch-deep-learning/raw/main/data/pizza_steak_sushi.zip\")\n",
    "    print(\"Downloading pizza, steak, sushi data...\")\n",
    "    f.write(request.content)\n",
    "\n",
    "# Unzip pizza, steak, sushi data\n",
    "with zipfile.ZipFile(data_path / \"pizza_steak_sushi.zip\", \"r\") as zip_ref:\n",
    "    print(\"Unzipping pizza, steak, sushi data...\") \n",
    "    zip_ref.extractall(image_path)\n",
    "\n",
    "# Remove zip file\n",
    "os.remove(data_path / \"pizza_steak_sushi.zip\")"
   ]
  },
  {
   "cell_type": "code",
   "execution_count": 4,
   "id": "c0e1df0c",
   "metadata": {},
   "outputs": [],
   "source": [
    "# The resulting data folder looks like the following"
   ]
  },
  {
   "cell_type": "raw",
   "id": "b04551b1",
   "metadata": {},
   "source": [
    "data/\n",
    "└── pizza_steak_sushi/\n",
    "    ├── train/\n",
    "    │   ├── pizza/\n",
    "    │   │   ├── train_image01.jpeg\n",
    "    │   │   ├── test_image02.jpeg\n",
    "    │   │   └── ...\n",
    "    │   ├── steak/\n",
    "    │   │   └── ...\n",
    "    │   └── sushi/\n",
    "    │       └── ...\n",
    "    └── test/\n",
    "        ├── pizza/\n",
    "        │   ├── test_image01.jpeg\n",
    "        │   └── test_image02.jpeg\n",
    "        ├── steak/\n",
    "        └── sushi/"
   ]
  },
  {
   "cell_type": "markdown",
   "id": "1d691b9f",
   "metadata": {},
   "source": [
    "## Create Datasets and DataLoaders\n",
    "data_setup.py"
   ]
  },
  {
   "cell_type": "code",
   "execution_count": 5,
   "id": "638e6544",
   "metadata": {},
   "outputs": [],
   "source": [
    "\"\"\"\n",
    "Contains functionality for creating PyTorch DataLoaders for \n",
    "images classification data.\n",
    "\"\"\"\n",
    "import os\n",
    "\n",
    "import torch\n",
    "import torchvision\n",
    "\n",
    "NUM_WORKERS = os.cpu_count()\n",
    "\n",
    "\n",
    "def create_dataloaders(\n",
    "    train_dir: str,\n",
    "    test_dir: str,\n",
    "    transform: torchvision.transforms.Compose,\n",
    "    batch_size: int = 32,\n",
    "    num_workers: int = NUM_WORKERS,\n",
    "):\n",
    "    \"\"\"\n",
    "    Creates training and testing DataLoaders.\n",
    "\n",
    "    Takes in training/testing directory paths and turns them into\n",
    "    PyTorch Datasets and then DataLoaders.\n",
    "\n",
    "    Args:\n",
    "\n",
    "    Returns:\n",
    "        A tuple of (train_dataloader, test_dataloader, class_names) where\n",
    "        class_names is a list of target classes.\n",
    "\n",
    "    Example:\n",
    "        train_dataloader, test_dataloader, class_names =\n",
    "         create_dataloaders(\n",
    "            tr_dir, tst_dir, transform, batch_size, num_workers)\n",
    "    \"\"\"\n",
    "    # Use ImageFolder to create dataset(s)\n",
    "    train_data = torchvision.datasets.ImageFolder(train_dir, transform=transform)\n",
    "    test_data = torchvision.datasets.ImageFolder(test_dir, transform=transform)\n",
    "    \n",
    "    class_names = train_data.classes\n",
    "    \n",
    "    # Turn images to dataloaders\n",
    "    train_dataloader = torch.utils.data.DataLoader(\n",
    "        train_data,\n",
    "        batch_size=batch_size,\n",
    "        shuffle=True,\n",
    "        num_workers=num_workers,\n",
    "        pin_memory=True\n",
    "    )\n",
    "    \n",
    "    test_dataloader = torch.utils.data.DataLoader(\n",
    "        test_data,\n",
    "        batch_size=batch_size,\n",
    "        shuffle=True,\n",
    "        num_workers=num_workers,\n",
    "        pin_memory=True\n",
    "    )\n",
    "    \n",
    "    return train_dataloader, test_dataloader, class_names"
   ]
  },
  {
   "cell_type": "code",
   "execution_count": 6,
   "id": "26598a13",
   "metadata": {},
   "outputs": [],
   "source": [
    "# Test data_setup"
   ]
  },
  {
   "cell_type": "code",
   "execution_count": 7,
   "id": "0e7479ce",
   "metadata": {},
   "outputs": [],
   "source": [
    "data_transform = torchvision.transforms.Compose([\n",
    "    torchvision.transforms.Resize((64, 64)),\n",
    "    torchvision.transforms.ToTensor()\n",
    "])\n"
   ]
  },
  {
   "cell_type": "code",
   "execution_count": 8,
   "id": "b35deb88",
   "metadata": {},
   "outputs": [],
   "source": [
    "train_dataloader, test_dataloader, class_names = create_dataloaders(\n",
    "    \"data/pizza_steak_sushi/train\",\n",
    "    \"data/pizza_steak_sushi/test\",\n",
    "    data_transform\n",
    ")"
   ]
  },
  {
   "cell_type": "code",
   "execution_count": 9,
   "id": "1dc98a70",
   "metadata": {},
   "outputs": [
    {
     "data": {
      "text/plain": [
       "['pizza', 'steak', 'sushi']"
      ]
     },
     "execution_count": 9,
     "metadata": {},
     "output_type": "execute_result"
    }
   ],
   "source": [
    "class_names"
   ]
  },
  {
   "cell_type": "code",
   "execution_count": 10,
   "id": "1ee6a08e",
   "metadata": {},
   "outputs": [],
   "source": [
    "X,y = next(iter(train_dataloader))"
   ]
  },
  {
   "cell_type": "code",
   "execution_count": 11,
   "id": "859de403",
   "metadata": {},
   "outputs": [
    {
     "data": {
      "text/plain": [
       "(torch.Tensor,\n",
       " torch.Size([32, 3, 64, 64]),\n",
       " tensor([0, 0, 0, 1, 0, 1, 2, 0, 0, 0, 2, 1, 1, 0, 0, 2, 0, 1, 1, 0, 0, 0, 1, 0,\n",
       "         0, 2, 0, 1, 1, 0, 2, 1]))"
      ]
     },
     "execution_count": 11,
     "metadata": {},
     "output_type": "execute_result"
    }
   ],
   "source": [
    "type(X), X.shape, y"
   ]
  },
  {
   "cell_type": "markdown",
   "id": "5fd94317",
   "metadata": {},
   "source": [
    "## Build model\n",
    "model_builder.py"
   ]
  },
  {
   "cell_type": "code",
   "execution_count": 19,
   "id": "b478ea53",
   "metadata": {},
   "outputs": [],
   "source": [
    "\"\"\"\n",
    "Contains PyTorch model code to instantiate a TinyVGG model.\n",
    "\"\"\"\n",
    "import torch\n",
    "from torch import nn\n",
    "\n",
    "class TinyVGG(nn.Module):\n",
    "    \"\"\"\n",
    "    Creates the TinyVGG architecture.\n",
    "    \n",
    "    Args:\n",
    "        input_shape: an int indicating num of input channels\n",
    "        hidden_units: an int indicating num of hidden units between layers\n",
    "        output_shape: an int indicating num of output units\n",
    "    \"\"\"\n",
    "    def __init__(self, input_shape:int, hidden_units:int, output_shape:int):\n",
    "        super().__init__()\n",
    "        \n",
    "        self.conv_block_1 = nn.Sequential(\n",
    "            nn.Conv2d(\n",
    "                in_channels=input_shape,\n",
    "                out_channels=hidden_units,\n",
    "                kernel_size=3,\n",
    "                stride=1,\n",
    "                padding=0\n",
    "            ),\n",
    "            nn.ReLU(),\n",
    "            nn.Conv2d(\n",
    "                in_channels=hidden_units,\n",
    "                out_channels=hidden_units,\n",
    "                kernel_size=3,\n",
    "                stride=1,\n",
    "                padding=0\n",
    "            ),\n",
    "            nn.ReLU(),\n",
    "            nn.MaxPool2d(kernel_size=2, stride=2)\n",
    "        )\n",
    "        \n",
    "        self.conv_block_2 = nn.Sequential(\n",
    "            nn.Conv2d(hidden_units, hidden_units, kernel_size=3, padding=0),\n",
    "            nn.ReLU(),\n",
    "            nn.Conv2d(hidden_units, hidden_units, kernel_size=3, padding=0),\n",
    "            nn.ReLU(),\n",
    "            nn.MaxPool2d(2)\n",
    "        )\n",
    "        \n",
    "        self.classifier = nn.Sequential(\n",
    "            nn.Flatten(),\n",
    "            nn.Linear(in_features=hidden_units*13*13, out_features=output_shape)\n",
    "        )\n",
    "            \n",
    "    def forward(self, x:torch.Tensor):\n",
    "        #x = self.conv_block_1(x)\n",
    "        #x = self.conv_block_2(x)\n",
    "        #x = self.classifier(x)\n",
    "        return self.classifier(self.conv_block_2(self.conv_block_1(x)))"
   ]
  },
  {
   "cell_type": "code",
   "execution_count": 20,
   "id": "e130bbfc",
   "metadata": {},
   "outputs": [],
   "source": [
    "# Test above code"
   ]
  },
  {
   "cell_type": "code",
   "execution_count": 21,
   "id": "dca1a48d",
   "metadata": {},
   "outputs": [
    {
     "data": {
      "text/plain": [
       "'mps'"
      ]
     },
     "execution_count": 21,
     "metadata": {},
     "output_type": "execute_result"
    }
   ],
   "source": [
    "import utils\n",
    "device = utils.get_device()\n",
    "device"
   ]
  },
  {
   "cell_type": "code",
   "execution_count": 22,
   "id": "8281ea5f",
   "metadata": {},
   "outputs": [
    {
     "data": {
      "text/plain": [
       "(torch.Size([32, 3, 64, 64]),\n",
       " tensor([0, 0, 0, 1, 0, 1, 2, 0, 0, 0, 2, 1, 1, 0, 0, 2, 0, 1, 1, 0, 0, 0, 1, 0,\n",
       "         0, 2, 0, 1, 1, 0, 2, 1]),\n",
       " 3)"
      ]
     },
     "execution_count": 22,
     "metadata": {},
     "output_type": "execute_result"
    }
   ],
   "source": [
    "X.shape, y, len(class_names)"
   ]
  },
  {
   "cell_type": "code",
   "execution_count": 23,
   "id": "97f3d256",
   "metadata": {},
   "outputs": [
    {
     "data": {
      "text/plain": [
       "TinyVGG(\n",
       "  (conv_block_1): Sequential(\n",
       "    (0): Conv2d(3, 10, kernel_size=(3, 3), stride=(1, 1))\n",
       "    (1): ReLU()\n",
       "    (2): Conv2d(10, 10, kernel_size=(3, 3), stride=(1, 1))\n",
       "    (3): ReLU()\n",
       "    (4): MaxPool2d(kernel_size=2, stride=2, padding=0, dilation=1, ceil_mode=False)\n",
       "  )\n",
       "  (conv_block_2): Sequential(\n",
       "    (0): Conv2d(10, 10, kernel_size=(3, 3), stride=(1, 1))\n",
       "    (1): ReLU()\n",
       "    (2): Conv2d(10, 10, kernel_size=(3, 3), stride=(1, 1))\n",
       "    (3): ReLU()\n",
       "    (4): MaxPool2d(kernel_size=2, stride=2, padding=0, dilation=1, ceil_mode=False)\n",
       "  )\n",
       "  (classifier): Sequential(\n",
       "    (0): Flatten(start_dim=1, end_dim=-1)\n",
       "    (1): Linear(in_features=1690, out_features=3, bias=True)\n",
       "  )\n",
       ")"
      ]
     },
     "execution_count": 23,
     "metadata": {},
     "output_type": "execute_result"
    }
   ],
   "source": [
    "torch.manual_seed(123)\n",
    "\n",
    "model = TinyVGG(input_shape=3, hidden_units=10, output_shape=3).to(device)\n",
    "model"
   ]
  },
  {
   "cell_type": "markdown",
   "id": "1e4dedc8",
   "metadata": {},
   "source": [
    "## Create train/test functions\n",
    "- train_step(): training ops per epoch\n",
    "- test_step(): testing ops per epoch\n",
    "- train(): for epoch in epochs, calling train_step() and test_step()\n",
    "\n",
    "engine.py"
   ]
  },
  {
   "cell_type": "code",
   "execution_count": 24,
   "id": "805bcd54",
   "metadata": {},
   "outputs": [],
   "source": [
    "\"\"\"\n",
    "Contains functions for training/testing a PyTorch model.\n",
    "\"\"\"\n",
    "import torch\n",
    "\n",
    "from tqdm.auto import tqdm\n",
    "from typing import Dict, List, Tuple"
   ]
  },
  {
   "cell_type": "code",
   "execution_count": 25,
   "id": "de4e33f5",
   "metadata": {},
   "outputs": [],
   "source": [
    "def train_step(\n",
    "    model: torch.nn.Module,\n",
    "    dataloader: torch.utils.data.DataLoader,\n",
    "    loss_fn: torch.nn.Module,\n",
    "    optimizer: torch.optim.Optimizer,\n",
    "    device: torch.device\n",
    ") -> Tuple[float, float]:\n",
    "    \"\"\"\n",
    "    Trains a PyTorch model per epoch.\n",
    "    \n",
    "    Sets a target PyTorch model to training mode and then steps through the \n",
    "    forward/backward pass: forward, loss, loss backward, optim i.e. gradient descent.\n",
    "    \n",
    "    Args:\n",
    "        ***\n",
    "    \n",
    "    Returns:\n",
    "        A tuple of training loss and accuracy metrics, e.g., (0.1111, 0.8765)\n",
    "    \"\"\"\n",
    "    model.train()\n",
    "    \n",
    "    train_loss, train_acc = 0.0, 0.0\n",
    "    \n",
    "    # Loop through the batches in the given DataLoader\n",
    "    for batch, (X,y) in enumerate(dataloader):\n",
    "        X,y = X.to(device), y.to(device)\n",
    "        \n",
    "        # Forward\n",
    "        y_pred = model(X)\n",
    "        \n",
    "        # Compute loss\n",
    "        loss = loss_fn(y_pred, y)\n",
    "        train_loss += loss.item()\n",
    "        \n",
    "        # Loss backward\n",
    "        optimizer.zero_grad()\n",
    "        loss.backward()\n",
    "        \n",
    "        # Grad descent\n",
    "        optimizer.step()\n",
    "        \n",
    "        # Metrics\n",
    "        y_pred_class = torch.argmax(torch.softmax(y_pred, dim=1), dim=1)\n",
    "        train_acc += (y_pred_class == y).sum().item() / len(y)\n",
    "    \n",
    "    # Modify accumulated (over all batches) metrics to be avg metric per batch\n",
    "    train_loss /= len(dataloader)\n",
    "    train_acc /= len(dataloader)\n",
    "    \n",
    "    return train_loss, train_acc"
   ]
  },
  {
   "cell_type": "code",
   "execution_count": null,
   "id": "24d6e66e",
   "metadata": {},
   "outputs": [],
   "source": []
  }
 ],
 "metadata": {
  "kernelspec": {
   "display_name": "Python 3 (ipykernel)",
   "language": "python",
   "name": "python3"
  },
  "language_info": {
   "codemirror_mode": {
    "name": "ipython",
    "version": 3
   },
   "file_extension": ".py",
   "mimetype": "text/x-python",
   "name": "python",
   "nbconvert_exporter": "python",
   "pygments_lexer": "ipython3",
   "version": "3.9.16"
  }
 },
 "nbformat": 4,
 "nbformat_minor": 5
}
